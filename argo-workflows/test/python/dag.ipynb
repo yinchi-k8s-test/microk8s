{
 "cells": [
  {
   "cell_type": "code",
   "execution_count": 1,
   "metadata": {},
   "outputs": [],
   "source": [
    "from hera.workflows import DAG, Workflow, script\n",
    "from hera.shared import global_config as hera_config\n",
    "\n",
    "hera_config.host = \"http://localhost:2746\"\n",
    "hera_config.namespace = 'argo'\n",
    "hera_config.verify_ssl = False\n",
    "\n",
    "@script(image='python:3.12-slim')\n",
    "def echo(message: str):\n",
    "    print(message)\n",
    "\n",
    "\n",
    "with Workflow(\n",
    "    generate_name=\"dag-diamond-\",\n",
    "    entrypoint=\"diamond\",\n",
    ") as w:\n",
    "    with DAG(name=\"diamond\"):\n",
    "        A = echo(name=\"A\", arguments={\"message\": \"A\"})\n",
    "        B = [\n",
    "            echo(name=\"B0\", arguments={\"message\": \"B0\"}),\n",
    "            echo(name=\"B1\", arguments={\"message\": \"B1\"})]\n",
    "        C = echo(name=\"C\", arguments={\"message\": \"C\"})\n",
    "\n",
    "        A >> [B[0], B[1]] >> C\n",
    "ret = w.create()"
   ]
  },
  {
   "cell_type": "code",
   "execution_count": 2,
   "metadata": {},
   "outputs": [
    {
     "data": {
      "text/plain": [
       "'dag-diamond-m5d7f'"
      ]
     },
     "execution_count": 2,
     "metadata": {},
     "output_type": "execute_result"
    }
   ],
   "source": [
    "name = ret.metadata.name\n",
    "name"
   ]
  },
  {
   "cell_type": "code",
   "execution_count": 3,
   "metadata": {},
   "outputs": [
    {
     "data": {
      "text/plain": [
       "'Succeeded'"
      ]
     },
     "execution_count": 3,
     "metadata": {},
     "output_type": "execute_result"
    }
   ],
   "source": [
    "ret = w.wait()\n",
    "ret.status.phase"
   ]
  },
  {
   "cell_type": "code",
   "execution_count": 4,
   "metadata": {},
   "outputs": [],
   "source": [
    "from hera.workflows.service import WorkflowsService\n",
    "\n",
    "service= WorkflowsService()"
   ]
  },
  {
   "cell_type": "code",
   "execution_count": 5,
   "metadata": {},
   "outputs": [
    {
     "name": "stdout",
     "output_type": "stream",
     "text": [
      "dag-diamond-m5d7f-echo-1738800557: A\n",
      "dag-diamond-m5d7f-echo-1738800557: time=\"2024-10-13T01:59:59.835Z\" level=info msg=\"sub-process exited\" argo=true error=\"<nil>\"\n",
      "dag-diamond-m5d7f-echo-857775647: B1\n",
      "dag-diamond-m5d7f-echo-840998028: B0\n",
      "dag-diamond-m5d7f-echo-840998028: time=\"2024-10-13T02:00:09.875Z\" level=info msg=\"sub-process exited\" argo=true error=\"<nil>\"\n",
      "dag-diamond-m5d7f-echo-857775647: time=\"2024-10-13T02:00:09.876Z\" level=info msg=\"sub-process exited\" argo=true error=\"<nil>\"\n",
      "dag-diamond-m5d7f-echo-1705245319: C\n",
      "dag-diamond-m5d7f-echo-1705245319: time=\"2024-10-13T02:00:19.891Z\" level=info msg=\"sub-process exited\" argo=true error=\"<nil>\"\n"
     ]
    }
   ],
   "source": [
    "# For some reason, `service.workflow_logs()` doesn't work.  Here is an alternative:\n",
    "\n",
    "import requests\n",
    "import json\n",
    "\n",
    "def logs(_name):\n",
    "    url = f\"{hera_config.host}/api/v1/workflows/{hera_config.namespace}/\"\\\n",
    "          f\"{_name}/log?logOptions.container=main\"\n",
    "    response = requests.get(url)\n",
    "\n",
    "    for s in response.text.splitlines():\n",
    "        obj = json.loads(s)['result']\n",
    "        print(f\"{obj['podName']}: {obj['content']}\")\n",
    "\n",
    "logs(name)"
   ]
  },
  {
   "cell_type": "code",
   "execution_count": 6,
   "metadata": {},
   "outputs": [],
   "source": [
    "# service.delete_workflow(namespace=hera_config.namespace, name=name)"
   ]
  },
  {
   "cell_type": "code",
   "execution_count": null,
   "metadata": {},
   "outputs": [],
   "source": []
  }
 ],
 "metadata": {
  "kernelspec": {
   "display_name": ".venv",
   "language": "python",
   "name": "python3"
  },
  "language_info": {
   "codemirror_mode": {
    "name": "ipython",
    "version": 3
   },
   "file_extension": ".py",
   "mimetype": "text/x-python",
   "name": "python",
   "nbconvert_exporter": "python",
   "pygments_lexer": "ipython3",
   "version": "3.12.3"
  }
 },
 "nbformat": 4,
 "nbformat_minor": 2
}
